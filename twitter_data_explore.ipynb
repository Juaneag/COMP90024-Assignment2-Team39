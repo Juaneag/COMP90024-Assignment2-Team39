{
 "cells": [
  {
   "attachments": {},
   "cell_type": "markdown",
   "metadata": {},
   "source": [
    "# Twitter Data Explore"
   ]
  },
  {
   "cell_type": "code",
   "execution_count": 1,
   "metadata": {},
   "outputs": [],
   "source": [
    "import ijson"
   ]
  },
  {
   "attachments": {},
   "cell_type": "markdown",
   "metadata": {},
   "source": [
    "Load first few lines of twitter-huge.json file:"
   ]
  },
  {
   "cell_type": "code",
   "execution_count": 3,
   "metadata": {},
   "outputs": [
    {
     "name": "stdout",
     "output_type": "stream",
     "text": [
      "{\"total_rows\":166476331,\"offset\":65337491,\"rows\":[\n",
      "\n",
      "{\"id\":\"1491571754170421255\",\"key\":[2022,2,10,\"1005388896094511104\",\"736626235036426244\",\"1491571754170421255\"],\"value\":{\"tags\":\"\",\"tokens\":\"hypothetically|ancient|700|year|Jewish|temple|was|found|another|country|say|Spain|Zionist|would|claim|that|country|ancient|sister|homeland|Israel|then|probably|find|some|ancient|text|their|vault|saying|that|God|gave|them|that|land|too\"},\"doc\":{\"_id\":\"1491571754170421255\",\"_rev\":\"1-db2d80704abf0cfa907036dedab0fc4a\",\"data\":{\"author_id\":\"736626235036426244\",\"conversation_id\":\"1005388896094511104\",\"created_at\":\"2022-02-10T00:36:32.000Z\",\"entities\":{\"mentions\":[{\"start\":0,\"end\":9,\"username\":\"ELNescio\",\"id\":\"1311236970744606721\"},{\"start\":10,\"end\":25,\"username\":\"GoergeGalloway\",\"id\":\"2821154529\"},{\"start\":26,\"end\":38,\"username\":\"Botthescott\",\"id\":\"1039591343918469120\"},{\"start\":39,\"end\":54,\"username\":\"LavBaalDevarim\",\"id\":\"1204443642250891264\"},{\"start\":55,\"end\":69,\"username\":\"AndredeVegte6\",\"id\":\"1377022388995555329\"},{\"start\":70,\"end\":80,\"username\":\"besseder1\",\"id\":\"1344042782873284609\"},{\"start\":81,\"end\":96,\"username\":\"AntisemitismNo\",\"id\":\"1393612440793985029\"},{\"start\":97,\"end\":112,\"username\":\"whywouldyou_uk\",\"id\":\"746633596375601152\"},{\"start\":113,\"end\":123,\"username\":\"Bobby6172\",\"id\":\"1260578830231785478\"},{\"start\":124,\"end\":136,\"username\":\"LollllllaJR\",\"id\":\"788782854025207813\"},{\"start\":137,\"end\":153,\"username\":\"IsraelandStufff\",\"id\":\"2799895176\"},{\"start\":154,\"end\":166,\"username\":\"GrandJewbah\",\"id\":\"976721111084929024\"},{\"start\":167,\"end\":177,\"username\":\"benusa567\",\"id\":\"5820162\"},{\"start\":178,\"end\":185,\"username\":\"_kfajk\",\"id\":\"1977321564\"},{\"start\":186,\"end\":199,\"username\":\"andyblueskyz\",\"id\":\"307812346\"},{\"start\":200,\"end\":207,\"username\":\"JewSoc\",\"id\":\"1289756592670494721\"},{\"start\":208,\"end\":216,\"username\":\"Th2shay\",\"id\":\"223610043\"},{\"start\":217,\"end\":233,\"username\":\"Tax_Dodge_Hodge\",\"id\":\"1144947103082455040\"},{\"start\":234,\"end\":246,\"username\":\"TopRantKing\",\"id\":\"881819388676014081\"},{\"start\":247,\"end\":255,\"username\":\"wannnwz\",\"id\":\"1405567063662350339\"},{\"start\":256,\"end\":266,\"username\":\"a_zionist\",\"id\":\"2890051850\"},{\"start\":267,\"end\":282,\"username\":\"NuHakolBeseder\",\"id\":\"1366766484\"},{\"start\":283,\"end\":299,\"username\":\"Persian70509610\",\"id\":\"1129558046567481344\"},{\"start\":300,\"end\":306,\"username\":\"Ffpg7\",\"id\":\"1410853257057013762\"},{\"start\":307,\"end\":316,\"username\":\"IILeahll\",\"id\":\"467314621\"},{\"start\":317,\"end\":326,\"username\":\"Elswood3\",\"id\":\"1260248107448782849\"},{\"start\":327,\"end\":341,\"username\":\"cohen__yasmin\",\"id\":\"1432506444440641537\"},{\"start\":342,\"end\":354,\"username\":\"IloveBush43\",\"id\":\"1162271005949038593\"},{\"start\":355,\"end\":367,\"username\":\"Kokothecat2\",\"id\":\"1189849266887544832\"},{\"start\":368,\"end\":380,\"username\":\"C_riusBlack\",\"id\":\"1391844738454720512\"},{\"start\":381,\"end\":390,\"username\":\"ftysugar\",\"id\":\"1392350166942838784\"},{\"start\":391,\"end\":407,\"username\":\"natashahyy6l225\",\"id\":\"1392715000095993857\"},{\"start\":408,\"end\":421,\"username\":\"ofTheBigMilk\",\"id\":\"1308200246099546112\"},{\"start\":422,\"end\":438,\"username\":\"FreePal82067499\",\"id\":\"1392229252980936707\"},{\"start\":439,\"end\":454,\"username\":\"Crow31Darkness\",\"id\":\"1075993240405401600\"},{\"start\":455,\"end\":470,\"username\":\"amicidiisraele\",\"id\":\"954675967\"},{\"start\":471,\"end\":487,\"username\":\"BDS_Crooked_Org\",\"id\":\"444838685\"},{\"start\":488,\"end\":502,\"username\":\"18PigsDontFly\",\"id\":\"200551793\"},{\"start\":503,\"end\":516,\"username\":\"noah_guttman\",\"id\":\"329247331\"},{\"start\":517,\"end\":526,\"username\":\"Nili14uk\",\"id\":\"2812726712\"},{\"start\":527,\"end\":537,\"username\":\"TrulyYou7\",\"id\":\"1351159140295577601\"},{\"start\":538,\"end\":551,\"username\":\"RebootedSpin\",\"id\":\"1358174913601953792\"},{\"start\":552,\"end\":565,\"username\":\"ronen_shefer\",\"id\":\"1417829279338049537\"},{\"start\":566,\"end\":579,\"username\":\"BlidyDoriana\",\"id\":\"1415353785485037578\"},{\"start\":580,\"end\":596,\"username\":\"Gaza_Resistance\",\"id\":\"1395557388925636610\"},{\"start\":597,\"end\":612,\"username\":\"creditlesscard\",\"id\":\"519520506\"},{\"start\":613,\"end\":623,\"username\":\"garybkatz\",\"id\":\"222696162\"},{\"start\":624,\"end\":636,\"username\":\"helen_tiger\",\"id\":\"2755440285\"},{\"start\":637,\"end\":649,\"username\":\"GogoIsrael2\",\"id\":\"1239895217693691905\"},{\"start\":650,\"end\":659,\"username\":\"Jaccuse1\",\"id\":\"417571583\"}]},\"geo\":{},\"lang\":\"en\",\"public_metrics\":{\"retweet_count\":0,\"reply_count\":0,\"like_count\":0,\"quote_count\":0},\"text\":\"@ELNescio @GoergeGalloway @Botthescott @LavBaalDevarim @AndredeVegte6 @besseder1 @AntisemitismNo @whywouldyou_uk @Bobby6172 @LollllllaJR @IsraelandStufff @GrandJewbah @benusa567 @_kfajk @andyblueskyz @JewSoc @Th2shay @Tax_Dodge_Hodge @TopRantKing @wannnwz @a_zionist @NuHakolBeseder @Persian70509610 @Ffpg7 @IILeahll @Elswood3 @cohen__yasmin @IloveBush43 @Kokothecat2 @C_riusBlack @ftysugar @natashahyy6l225 @ofTheBigMilk @FreePal82067499 @Crow31Darkness @amicidiisraele @BDS_Crooked_Org @18PigsDontFly @noah_guttman @Nili14uk @TrulyYou7 @RebootedSpin @ronen_shefer @BlidyDoriana @Gaza_Resistance @creditlesscard @garybkatz @helen_tiger @GogoIsrael2 @Jaccuse1 If hypothetically an ancient 700 year's or so Jewish temple was found in another country, say Spain or ??, Zionist's would claim that country as an ancient sister homeland of Israel then probably find some ancient text in 1 of their vault's saying that God gave them that land too\",\"sentiment\":0.008928571428571428},\"matching_rules\":[{\"id\":\"1491447910617485312\",\"tag\":\"\"}]}},\n",
      "\n",
      "{\"id\":\"1491565582478561281\",\"key\":[2022,2,10,\"1009965022200680448\",\"1234462200623816704\",\"1491565582478561281\"],\"value\":{\"tags\":\"\",\"tokens\":\"Milwaukee|ain|lose|game|after|this|tweet|btw\"},\"doc\":{\"_id\":\"1491565582478561281\",\"_rev\":\"1-d830548be4c6b025f1f8b74563149f95\",\"data\":{\"author_id\":\"1234462200623816704\",\"context_annotations\":[{\"domain\":{\"id\":\"3\",\"name\":\"TV Shows\",\"description\":\"Television shows from around the world\"},\"entity\":{\"id\":\"10000607734\",\"name\":\"NBA Basketball\",\"description\":\"All the latest basketball action from the NBA.\"}},{\"domain\":{\"id\":\"11\",\"name\":\"Sport\",\"description\":\"Types of sports, like soccer and basketball\"},\"entity\":{\"id\":\"706083902411055104\",\"name\":\"Basketball\"}},{\"domain\":{\"id\":\"26\",\"name\":\"Sports League\",\"description\":\"\"},\"entity\":{\"id\":\"706083889454813185\",\"name\":\"NBA\"}},{\"domain\":{\"id\":\"10\",\"name\":\"Person\",\"description\":\"Named people in the world like Nelson Mandela\"},\"entity\":{\"id\":\"809849113470586880\",\"name\":\"Joel Embiid\"}},{\"domain\":{\"id\":\"11\",\"name\":\"Sport\",\"description\":\"Types of sports, like soccer and basketball\"},\"entity\":{\"id\":\"706083902411055104\",\"name\":\"Basketball\"}},{\"domain\":{\"id\":\"46\",\"name\":\"Brand Category\",\"description\":\"Categories within Brand Verticals that narrow down the scope of Brands\"},\"entity\":{\"id\":\"781974596752842752\",\"name\":\"Services\"}},{\"domain\":{\"id\":\"47\",\"name\":\"Brand\",\"description\":\"Brands and Companies\"},\"entity\":{\"id\":\"10045225402\",\"name\":\"Twitter\"}},{\"domain\":{\"id\":\"60\",\"name\":\"Athlete\",\"description\":\"An athlete in the world, like Serena Williams or Lionel Messi\"},\"entity\":{\"id\":\"809849113470586880\",\"name\":\"Joel Embiid\"}}],\"conversation_id\":\"1009965022200680448\",\"created_at\":\"2022-02-10T00:12:01.000Z\",\"entities\":{\"mentions\":[{\"start\":0,\"end\":11,\"username\":\"theeejawsh\",\"id\":\"1063586211925770246\"},{\"start\":12,\"end\":24,\"username\":\"midrangeszn\",\"id\":\"1189338807457505282\"},{\"start\":25,\"end\":36,\"username\":\"JoelEmbiid\",\"id\":\"416814339\"}]},\"geo\":{},\"lang\":\"en\",\"public_metrics\":{\"retweet_count\":0,\"reply_count\":0,\"like_count\":0,\"quote_count\":0},\"text\":\"@theeejawsh @midrangeszn @JoelEmbiid Milwaukee ain’t lose a game after this tweet btw\",\"sentiment\":0},\"matching_rules\":[{\"id\":\"1491447910617485312\",\"tag\":\"\"}]}},\n",
      "\n",
      "{\"id\":\"1491890674089660416\",\"key\":[2022,2,10,\"1010138391608987648\",\"1335789898586996736\",\"1491890674089660416\"],\"value\":{\"tags\":\"\",\"tokens\":\"hope|got|this|right|Hard|Frankel|Here|link\"},\"doc\":{\"_id\":\"1491890674089660416\",\"_rev\":\"1-959c7adf7110c4d215693c5b2a0d0fd5\",\"data\":{\"author_id\":\"1335789898586996736\",\"context_annotations\":[{\"domain\":{\"id\":\"46\",\"name\":\"Brand Category\",\"description\":\"Categories within Brand Verticals that narrow down the scope of Brands\"},\"entity\":{\"id\":\"781974596157181956\",\"name\":\"Online Site\"}},{\"domain\":{\"id\":\"47\",\"name\":\"Brand\",\"description\":\"Brands and Companies\"},\"entity\":{\"id\":\"1106638172182597632\",\"name\":\"IGN\"}}],\"conversation_id\":\"1010138391608987648\",\"created_at\":\"2022-02-10T21:43:49.000Z\",\"entities\":{\"mentions\":[{\"start\":0,\"end\":10,\"username\":\"arnahunas\",\"id\":\"838560851556708353\"},{\"start\":11,\"end\":15,\"username\":\"IGN\",\"id\":\"18927441\"}],\"urls\":[{\"start\":85,\"end\":108,\"url\":\"https://t.co/DdFm5NxeYQ\",\"expanded_url\":\"https://youtu.be/WJLmab2o110?autoplay=1\",\"display_url\":\"youtu.be/WJLmab2o110?au…\",\"images\":[{\"url\":\"https://pbs.twimg.com/news_img/1490469040590327808/XsfQ_CWa?format=jpg&name=orig\",\"width\":1280,\"height\":720},{\"url\":\"https://pbs.twimg.com/news_img/1490469040590327808/XsfQ_CWa?format=jpg&name=150x150\",\"width\":150,\"height\":150}],\"status\":200,\"title\":\"Hard AF\",\"description\":\"Provided to YouTube by IngroovesHard AF · Ty FrankelTrap℗ 2018 UPM-USReleased on: 2018-05-04Composer, Writer: Leo EliAuto-generated by YouTube.\",\"unwound_url\":\"https://www.youtube.com/watch?autoplay=1&v=WJLmab2o110&feature=youtu.be\"}]},\"geo\":{},\"lang\":\"en\",\"public_metrics\":{\"retweet_count\":0,\"reply_count\":0,\"like_count\":0,\"quote_count\":0},\"text\":\"@arnahunas @IGN I hope I got this right\\n\\nHard AF by Ty Frankel\\n\\nHere's a link to it:\\nhttps://t.co/DdFm5NxeYQ\",\"sentiment\":0.045454545454545456},\"matching_rules\":[{\"id\":\"1491447910617485312\",\"tag\":\"\"}]}},\n",
      "\n",
      "{\"id\":\"1491665309626994688\",\"key\":[2022,2,10,\"1029850224687304704\",\"243156763\",\"1491665309626994688\"],\"value\":{\"tags\":\"\",\"tokens\":\"Sorry|for|the|hassle|Kindly|send|email|groupon|groupon|com|and|will|take|this|further\"},\"doc\":{\"_id\":\"1491665309626994688\",\"_rev\":\"1-25bd41270aa31de49c85e922b355b6b1\",\"data\":{\"author_id\":\"243156763\",\"conversation_id\":\"1029850224687304704\",\"created_at\":\"2022-02-10T06:48:18.000Z\",\"entities\":{\"annotations\":[{\"start\":129,\"end\":131,\"probability\":0.6854,\"type\":\"Person\",\"normalized_text\":\"Roy\"}],\"mentions\":[{\"start\":0,\"end\":15,\"username\":\"von_battenberg\",\"id\":\"1273573954679005185\"}]},\"geo\":{},\"lang\":\"en\",\"public_metrics\":{\"retweet_count\":0,\"reply_count\":0,\"like_count\":0,\"quote_count\":0},\"text\":\"@von_battenberg Sorry for the hassle. Kindly send us an email at sm.groupon.au@groupon.com, and we will take this up further.\\n\\n- Roy\",\"sentiment\":-0.04},\"matching_rules\":[{\"id\":\"1491447910617485312\",\"tag\":\"\"}]}},\n",
      "\n"
     ]
    }
   ],
   "source": [
    "with open('mnt/ext100/twitter-huge.json') as f:\n",
    "    for _ in range(5):\n",
    "        first_line = f.readline()\n",
    "        print(first_line)"
   ]
  },
  {
   "attachments": {},
   "cell_type": "markdown",
   "metadata": {},
   "source": [
    "See the major data is under rows.item, read the first record:"
   ]
  },
  {
   "cell_type": "code",
   "execution_count": 4,
   "metadata": {},
   "outputs": [
    {
     "name": "stdout",
     "output_type": "stream",
     "text": [
      "id 1491571754170421255\n",
      "key [2022, 2, 10, '1005388896094511104', '736626235036426244', '1491571754170421255']\n",
      "value {'tags': '', 'tokens': 'hypothetically|ancient|700|year|Jewish|temple|was|found|another|country|say|Spain|Zionist|would|claim|that|country|ancient|sister|homeland|Israel|then|probably|find|some|ancient|text|their|vault|saying|that|God|gave|them|that|land|too'}\n",
      "doc {'_id': '1491571754170421255', '_rev': '1-db2d80704abf0cfa907036dedab0fc4a', 'data': {'author_id': '736626235036426244', 'conversation_id': '1005388896094511104', 'created_at': '2022-02-10T00:36:32.000Z', 'entities': {'mentions': [{'start': 0, 'end': 9, 'username': 'ELNescio', 'id': '1311236970744606721'}, {'start': 10, 'end': 25, 'username': 'GoergeGalloway', 'id': '2821154529'}, {'start': 26, 'end': 38, 'username': 'Botthescott', 'id': '1039591343918469120'}, {'start': 39, 'end': 54, 'username': 'LavBaalDevarim', 'id': '1204443642250891264'}, {'start': 55, 'end': 69, 'username': 'AndredeVegte6', 'id': '1377022388995555329'}, {'start': 70, 'end': 80, 'username': 'besseder1', 'id': '1344042782873284609'}, {'start': 81, 'end': 96, 'username': 'AntisemitismNo', 'id': '1393612440793985029'}, {'start': 97, 'end': 112, 'username': 'whywouldyou_uk', 'id': '746633596375601152'}, {'start': 113, 'end': 123, 'username': 'Bobby6172', 'id': '1260578830231785478'}, {'start': 124, 'end': 136, 'username': 'LollllllaJR', 'id': '788782854025207813'}, {'start': 137, 'end': 153, 'username': 'IsraelandStufff', 'id': '2799895176'}, {'start': 154, 'end': 166, 'username': 'GrandJewbah', 'id': '976721111084929024'}, {'start': 167, 'end': 177, 'username': 'benusa567', 'id': '5820162'}, {'start': 178, 'end': 185, 'username': '_kfajk', 'id': '1977321564'}, {'start': 186, 'end': 199, 'username': 'andyblueskyz', 'id': '307812346'}, {'start': 200, 'end': 207, 'username': 'JewSoc', 'id': '1289756592670494721'}, {'start': 208, 'end': 216, 'username': 'Th2shay', 'id': '223610043'}, {'start': 217, 'end': 233, 'username': 'Tax_Dodge_Hodge', 'id': '1144947103082455040'}, {'start': 234, 'end': 246, 'username': 'TopRantKing', 'id': '881819388676014081'}, {'start': 247, 'end': 255, 'username': 'wannnwz', 'id': '1405567063662350339'}, {'start': 256, 'end': 266, 'username': 'a_zionist', 'id': '2890051850'}, {'start': 267, 'end': 282, 'username': 'NuHakolBeseder', 'id': '1366766484'}, {'start': 283, 'end': 299, 'username': 'Persian70509610', 'id': '1129558046567481344'}, {'start': 300, 'end': 306, 'username': 'Ffpg7', 'id': '1410853257057013762'}, {'start': 307, 'end': 316, 'username': 'IILeahll', 'id': '467314621'}, {'start': 317, 'end': 326, 'username': 'Elswood3', 'id': '1260248107448782849'}, {'start': 327, 'end': 341, 'username': 'cohen__yasmin', 'id': '1432506444440641537'}, {'start': 342, 'end': 354, 'username': 'IloveBush43', 'id': '1162271005949038593'}, {'start': 355, 'end': 367, 'username': 'Kokothecat2', 'id': '1189849266887544832'}, {'start': 368, 'end': 380, 'username': 'C_riusBlack', 'id': '1391844738454720512'}, {'start': 381, 'end': 390, 'username': 'ftysugar', 'id': '1392350166942838784'}, {'start': 391, 'end': 407, 'username': 'natashahyy6l225', 'id': '1392715000095993857'}, {'start': 408, 'end': 421, 'username': 'ofTheBigMilk', 'id': '1308200246099546112'}, {'start': 422, 'end': 438, 'username': 'FreePal82067499', 'id': '1392229252980936707'}, {'start': 439, 'end': 454, 'username': 'Crow31Darkness', 'id': '1075993240405401600'}, {'start': 455, 'end': 470, 'username': 'amicidiisraele', 'id': '954675967'}, {'start': 471, 'end': 487, 'username': 'BDS_Crooked_Org', 'id': '444838685'}, {'start': 488, 'end': 502, 'username': '18PigsDontFly', 'id': '200551793'}, {'start': 503, 'end': 516, 'username': 'noah_guttman', 'id': '329247331'}, {'start': 517, 'end': 526, 'username': 'Nili14uk', 'id': '2812726712'}, {'start': 527, 'end': 537, 'username': 'TrulyYou7', 'id': '1351159140295577601'}, {'start': 538, 'end': 551, 'username': 'RebootedSpin', 'id': '1358174913601953792'}, {'start': 552, 'end': 565, 'username': 'ronen_shefer', 'id': '1417829279338049537'}, {'start': 566, 'end': 579, 'username': 'BlidyDoriana', 'id': '1415353785485037578'}, {'start': 580, 'end': 596, 'username': 'Gaza_Resistance', 'id': '1395557388925636610'}, {'start': 597, 'end': 612, 'username': 'creditlesscard', 'id': '519520506'}, {'start': 613, 'end': 623, 'username': 'garybkatz', 'id': '222696162'}, {'start': 624, 'end': 636, 'username': 'helen_tiger', 'id': '2755440285'}, {'start': 637, 'end': 649, 'username': 'GogoIsrael2', 'id': '1239895217693691905'}, {'start': 650, 'end': 659, 'username': 'Jaccuse1', 'id': '417571583'}]}, 'geo': {}, 'lang': 'en', 'public_metrics': {'retweet_count': 0, 'reply_count': 0, 'like_count': 0, 'quote_count': 0}, 'text': \"@ELNescio @GoergeGalloway @Botthescott @LavBaalDevarim @AndredeVegte6 @besseder1 @AntisemitismNo @whywouldyou_uk @Bobby6172 @LollllllaJR @IsraelandStufff @GrandJewbah @benusa567 @_kfajk @andyblueskyz @JewSoc @Th2shay @Tax_Dodge_Hodge @TopRantKing @wannnwz @a_zionist @NuHakolBeseder @Persian70509610 @Ffpg7 @IILeahll @Elswood3 @cohen__yasmin @IloveBush43 @Kokothecat2 @C_riusBlack @ftysugar @natashahyy6l225 @ofTheBigMilk @FreePal82067499 @Crow31Darkness @amicidiisraele @BDS_Crooked_Org @18PigsDontFly @noah_guttman @Nili14uk @TrulyYou7 @RebootedSpin @ronen_shefer @BlidyDoriana @Gaza_Resistance @creditlesscard @garybkatz @helen_tiger @GogoIsrael2 @Jaccuse1 If hypothetically an ancient 700 year's or so Jewish temple was found in another country, say Spain or ??, Zionist's would claim that country as an ancient sister homeland of Israel then probably find some ancient text in 1 of their vault's saying that God gave them that land too\", 'sentiment': Decimal('0.008928571428571428')}, 'matching_rules': [{'id': '1491447910617485312', 'tag': ''}]}\n"
     ]
    }
   ],
   "source": [
    "with open('./mnt/ext100/twitter-huge.json') as f:\n",
    "    items = ijson.items(f, 'rows.item')\n",
    "    for item in items:\n",
    "        for k, v in item.items():\n",
    "            print(k, v)\n",
    "        break"
   ]
  },
  {
   "attachments": {},
   "cell_type": "markdown",
   "metadata": {},
   "source": [
    "See most info is in value and doc:"
   ]
  },
  {
   "cell_type": "code",
   "execution_count": 17,
   "metadata": {},
   "outputs": [
    {
     "name": "stdout",
     "output_type": "stream",
     "text": [
      "tags \n",
      "tokens hypothetically|ancient|700|year|Jewish|temple|was|found|another|country|say|Spain|Zionist|would|claim|that|country|ancient|sister|homeland|Israel|then|probably|find|some|ancient|text|their|vault|saying|that|God|gave|them|that|land|too\n"
     ]
    }
   ],
   "source": [
    "with open('./mnt/ext100/twitter-huge.json') as f:\n",
    "    items = ijson.items(f, 'rows.item.value')\n",
    "    for item in items:\n",
    "        for k, v in item.items():\n",
    "            print(k, v)\n",
    "        break"
   ]
  },
  {
   "cell_type": "code",
   "execution_count": 18,
   "metadata": {},
   "outputs": [
    {
     "name": "stdout",
     "output_type": "stream",
     "text": [
      "_id 1491571754170421255\n",
      "_rev 1-db2d80704abf0cfa907036dedab0fc4a\n",
      "data {'author_id': '736626235036426244', 'conversation_id': '1005388896094511104', 'created_at': '2022-02-10T00:36:32.000Z', 'entities': {'mentions': [{'start': 0, 'end': 9, 'username': 'ELNescio', 'id': '1311236970744606721'}, {'start': 10, 'end': 25, 'username': 'GoergeGalloway', 'id': '2821154529'}, {'start': 26, 'end': 38, 'username': 'Botthescott', 'id': '1039591343918469120'}, {'start': 39, 'end': 54, 'username': 'LavBaalDevarim', 'id': '1204443642250891264'}, {'start': 55, 'end': 69, 'username': 'AndredeVegte6', 'id': '1377022388995555329'}, {'start': 70, 'end': 80, 'username': 'besseder1', 'id': '1344042782873284609'}, {'start': 81, 'end': 96, 'username': 'AntisemitismNo', 'id': '1393612440793985029'}, {'start': 97, 'end': 112, 'username': 'whywouldyou_uk', 'id': '746633596375601152'}, {'start': 113, 'end': 123, 'username': 'Bobby6172', 'id': '1260578830231785478'}, {'start': 124, 'end': 136, 'username': 'LollllllaJR', 'id': '788782854025207813'}, {'start': 137, 'end': 153, 'username': 'IsraelandStufff', 'id': '2799895176'}, {'start': 154, 'end': 166, 'username': 'GrandJewbah', 'id': '976721111084929024'}, {'start': 167, 'end': 177, 'username': 'benusa567', 'id': '5820162'}, {'start': 178, 'end': 185, 'username': '_kfajk', 'id': '1977321564'}, {'start': 186, 'end': 199, 'username': 'andyblueskyz', 'id': '307812346'}, {'start': 200, 'end': 207, 'username': 'JewSoc', 'id': '1289756592670494721'}, {'start': 208, 'end': 216, 'username': 'Th2shay', 'id': '223610043'}, {'start': 217, 'end': 233, 'username': 'Tax_Dodge_Hodge', 'id': '1144947103082455040'}, {'start': 234, 'end': 246, 'username': 'TopRantKing', 'id': '881819388676014081'}, {'start': 247, 'end': 255, 'username': 'wannnwz', 'id': '1405567063662350339'}, {'start': 256, 'end': 266, 'username': 'a_zionist', 'id': '2890051850'}, {'start': 267, 'end': 282, 'username': 'NuHakolBeseder', 'id': '1366766484'}, {'start': 283, 'end': 299, 'username': 'Persian70509610', 'id': '1129558046567481344'}, {'start': 300, 'end': 306, 'username': 'Ffpg7', 'id': '1410853257057013762'}, {'start': 307, 'end': 316, 'username': 'IILeahll', 'id': '467314621'}, {'start': 317, 'end': 326, 'username': 'Elswood3', 'id': '1260248107448782849'}, {'start': 327, 'end': 341, 'username': 'cohen__yasmin', 'id': '1432506444440641537'}, {'start': 342, 'end': 354, 'username': 'IloveBush43', 'id': '1162271005949038593'}, {'start': 355, 'end': 367, 'username': 'Kokothecat2', 'id': '1189849266887544832'}, {'start': 368, 'end': 380, 'username': 'C_riusBlack', 'id': '1391844738454720512'}, {'start': 381, 'end': 390, 'username': 'ftysugar', 'id': '1392350166942838784'}, {'start': 391, 'end': 407, 'username': 'natashahyy6l225', 'id': '1392715000095993857'}, {'start': 408, 'end': 421, 'username': 'ofTheBigMilk', 'id': '1308200246099546112'}, {'start': 422, 'end': 438, 'username': 'FreePal82067499', 'id': '1392229252980936707'}, {'start': 439, 'end': 454, 'username': 'Crow31Darkness', 'id': '1075993240405401600'}, {'start': 455, 'end': 470, 'username': 'amicidiisraele', 'id': '954675967'}, {'start': 471, 'end': 487, 'username': 'BDS_Crooked_Org', 'id': '444838685'}, {'start': 488, 'end': 502, 'username': '18PigsDontFly', 'id': '200551793'}, {'start': 503, 'end': 516, 'username': 'noah_guttman', 'id': '329247331'}, {'start': 517, 'end': 526, 'username': 'Nili14uk', 'id': '2812726712'}, {'start': 527, 'end': 537, 'username': 'TrulyYou7', 'id': '1351159140295577601'}, {'start': 538, 'end': 551, 'username': 'RebootedSpin', 'id': '1358174913601953792'}, {'start': 552, 'end': 565, 'username': 'ronen_shefer', 'id': '1417829279338049537'}, {'start': 566, 'end': 579, 'username': 'BlidyDoriana', 'id': '1415353785485037578'}, {'start': 580, 'end': 596, 'username': 'Gaza_Resistance', 'id': '1395557388925636610'}, {'start': 597, 'end': 612, 'username': 'creditlesscard', 'id': '519520506'}, {'start': 613, 'end': 623, 'username': 'garybkatz', 'id': '222696162'}, {'start': 624, 'end': 636, 'username': 'helen_tiger', 'id': '2755440285'}, {'start': 637, 'end': 649, 'username': 'GogoIsrael2', 'id': '1239895217693691905'}, {'start': 650, 'end': 659, 'username': 'Jaccuse1', 'id': '417571583'}]}, 'geo': {}, 'lang': 'en', 'public_metrics': {'retweet_count': 0, 'reply_count': 0, 'like_count': 0, 'quote_count': 0}, 'text': \"@ELNescio @GoergeGalloway @Botthescott @LavBaalDevarim @AndredeVegte6 @besseder1 @AntisemitismNo @whywouldyou_uk @Bobby6172 @LollllllaJR @IsraelandStufff @GrandJewbah @benusa567 @_kfajk @andyblueskyz @JewSoc @Th2shay @Tax_Dodge_Hodge @TopRantKing @wannnwz @a_zionist @NuHakolBeseder @Persian70509610 @Ffpg7 @IILeahll @Elswood3 @cohen__yasmin @IloveBush43 @Kokothecat2 @C_riusBlack @ftysugar @natashahyy6l225 @ofTheBigMilk @FreePal82067499 @Crow31Darkness @amicidiisraele @BDS_Crooked_Org @18PigsDontFly @noah_guttman @Nili14uk @TrulyYou7 @RebootedSpin @ronen_shefer @BlidyDoriana @Gaza_Resistance @creditlesscard @garybkatz @helen_tiger @GogoIsrael2 @Jaccuse1 If hypothetically an ancient 700 year's or so Jewish temple was found in another country, say Spain or ??, Zionist's would claim that country as an ancient sister homeland of Israel then probably find some ancient text in 1 of their vault's saying that God gave them that land too\", 'sentiment': Decimal('0.008928571428571428')}\n",
      "matching_rules [{'id': '1491447910617485312', 'tag': ''}]\n"
     ]
    }
   ],
   "source": [
    "with open('./mnt/ext100/twitter-huge.json') as f:\n",
    "    items = ijson.items(f, 'rows.item.doc')\n",
    "    for item in items:\n",
    "        for k, v in item.items():\n",
    "            print(k, v)\n",
    "        break"
   ]
  },
  {
   "attachments": {},
   "cell_type": "markdown",
   "metadata": {},
   "source": [
    "most info under data:"
   ]
  },
  {
   "cell_type": "code",
   "execution_count": 19,
   "metadata": {},
   "outputs": [
    {
     "name": "stdout",
     "output_type": "stream",
     "text": [
      "author_id 736626235036426244\n",
      "conversation_id 1005388896094511104\n",
      "created_at 2022-02-10T00:36:32.000Z\n",
      "entities {'mentions': [{'start': 0, 'end': 9, 'username': 'ELNescio', 'id': '1311236970744606721'}, {'start': 10, 'end': 25, 'username': 'GoergeGalloway', 'id': '2821154529'}, {'start': 26, 'end': 38, 'username': 'Botthescott', 'id': '1039591343918469120'}, {'start': 39, 'end': 54, 'username': 'LavBaalDevarim', 'id': '1204443642250891264'}, {'start': 55, 'end': 69, 'username': 'AndredeVegte6', 'id': '1377022388995555329'}, {'start': 70, 'end': 80, 'username': 'besseder1', 'id': '1344042782873284609'}, {'start': 81, 'end': 96, 'username': 'AntisemitismNo', 'id': '1393612440793985029'}, {'start': 97, 'end': 112, 'username': 'whywouldyou_uk', 'id': '746633596375601152'}, {'start': 113, 'end': 123, 'username': 'Bobby6172', 'id': '1260578830231785478'}, {'start': 124, 'end': 136, 'username': 'LollllllaJR', 'id': '788782854025207813'}, {'start': 137, 'end': 153, 'username': 'IsraelandStufff', 'id': '2799895176'}, {'start': 154, 'end': 166, 'username': 'GrandJewbah', 'id': '976721111084929024'}, {'start': 167, 'end': 177, 'username': 'benusa567', 'id': '5820162'}, {'start': 178, 'end': 185, 'username': '_kfajk', 'id': '1977321564'}, {'start': 186, 'end': 199, 'username': 'andyblueskyz', 'id': '307812346'}, {'start': 200, 'end': 207, 'username': 'JewSoc', 'id': '1289756592670494721'}, {'start': 208, 'end': 216, 'username': 'Th2shay', 'id': '223610043'}, {'start': 217, 'end': 233, 'username': 'Tax_Dodge_Hodge', 'id': '1144947103082455040'}, {'start': 234, 'end': 246, 'username': 'TopRantKing', 'id': '881819388676014081'}, {'start': 247, 'end': 255, 'username': 'wannnwz', 'id': '1405567063662350339'}, {'start': 256, 'end': 266, 'username': 'a_zionist', 'id': '2890051850'}, {'start': 267, 'end': 282, 'username': 'NuHakolBeseder', 'id': '1366766484'}, {'start': 283, 'end': 299, 'username': 'Persian70509610', 'id': '1129558046567481344'}, {'start': 300, 'end': 306, 'username': 'Ffpg7', 'id': '1410853257057013762'}, {'start': 307, 'end': 316, 'username': 'IILeahll', 'id': '467314621'}, {'start': 317, 'end': 326, 'username': 'Elswood3', 'id': '1260248107448782849'}, {'start': 327, 'end': 341, 'username': 'cohen__yasmin', 'id': '1432506444440641537'}, {'start': 342, 'end': 354, 'username': 'IloveBush43', 'id': '1162271005949038593'}, {'start': 355, 'end': 367, 'username': 'Kokothecat2', 'id': '1189849266887544832'}, {'start': 368, 'end': 380, 'username': 'C_riusBlack', 'id': '1391844738454720512'}, {'start': 381, 'end': 390, 'username': 'ftysugar', 'id': '1392350166942838784'}, {'start': 391, 'end': 407, 'username': 'natashahyy6l225', 'id': '1392715000095993857'}, {'start': 408, 'end': 421, 'username': 'ofTheBigMilk', 'id': '1308200246099546112'}, {'start': 422, 'end': 438, 'username': 'FreePal82067499', 'id': '1392229252980936707'}, {'start': 439, 'end': 454, 'username': 'Crow31Darkness', 'id': '1075993240405401600'}, {'start': 455, 'end': 470, 'username': 'amicidiisraele', 'id': '954675967'}, {'start': 471, 'end': 487, 'username': 'BDS_Crooked_Org', 'id': '444838685'}, {'start': 488, 'end': 502, 'username': '18PigsDontFly', 'id': '200551793'}, {'start': 503, 'end': 516, 'username': 'noah_guttman', 'id': '329247331'}, {'start': 517, 'end': 526, 'username': 'Nili14uk', 'id': '2812726712'}, {'start': 527, 'end': 537, 'username': 'TrulyYou7', 'id': '1351159140295577601'}, {'start': 538, 'end': 551, 'username': 'RebootedSpin', 'id': '1358174913601953792'}, {'start': 552, 'end': 565, 'username': 'ronen_shefer', 'id': '1417829279338049537'}, {'start': 566, 'end': 579, 'username': 'BlidyDoriana', 'id': '1415353785485037578'}, {'start': 580, 'end': 596, 'username': 'Gaza_Resistance', 'id': '1395557388925636610'}, {'start': 597, 'end': 612, 'username': 'creditlesscard', 'id': '519520506'}, {'start': 613, 'end': 623, 'username': 'garybkatz', 'id': '222696162'}, {'start': 624, 'end': 636, 'username': 'helen_tiger', 'id': '2755440285'}, {'start': 637, 'end': 649, 'username': 'GogoIsrael2', 'id': '1239895217693691905'}, {'start': 650, 'end': 659, 'username': 'Jaccuse1', 'id': '417571583'}]}\n",
      "geo {}\n",
      "lang en\n",
      "public_metrics {'retweet_count': 0, 'reply_count': 0, 'like_count': 0, 'quote_count': 0}\n",
      "text @ELNescio @GoergeGalloway @Botthescott @LavBaalDevarim @AndredeVegte6 @besseder1 @AntisemitismNo @whywouldyou_uk @Bobby6172 @LollllllaJR @IsraelandStufff @GrandJewbah @benusa567 @_kfajk @andyblueskyz @JewSoc @Th2shay @Tax_Dodge_Hodge @TopRantKing @wannnwz @a_zionist @NuHakolBeseder @Persian70509610 @Ffpg7 @IILeahll @Elswood3 @cohen__yasmin @IloveBush43 @Kokothecat2 @C_riusBlack @ftysugar @natashahyy6l225 @ofTheBigMilk @FreePal82067499 @Crow31Darkness @amicidiisraele @BDS_Crooked_Org @18PigsDontFly @noah_guttman @Nili14uk @TrulyYou7 @RebootedSpin @ronen_shefer @BlidyDoriana @Gaza_Resistance @creditlesscard @garybkatz @helen_tiger @GogoIsrael2 @Jaccuse1 If hypothetically an ancient 700 year's or so Jewish temple was found in another country, say Spain or ??, Zionist's would claim that country as an ancient sister homeland of Israel then probably find some ancient text in 1 of their vault's saying that God gave them that land too\n",
      "sentiment 0.008928571428571428\n"
     ]
    }
   ],
   "source": [
    "with open('./mnt/ext100/twitter-huge.json') as f:\n",
    "    items = ijson.items(f, 'rows.item.doc.data')\n",
    "    for item in items:\n",
    "        for k, v in item.items():\n",
    "            print(k, v)\n",
    "        break"
   ]
  },
  {
   "attachments": {},
   "cell_type": "markdown",
   "metadata": {},
   "source": [
    "As mentioned by Richard, only few twitter data contain geo loaction. Also, can use ijson and this python script to preprocess twitter before load into CouchDB."
   ]
  },
  {
   "cell_type": "markdown",
   "metadata": {},
   "source": []
  }
 ],
 "metadata": {
  "kernelspec": {
   "display_name": "base",
   "language": "python",
   "name": "python3"
  },
  "language_info": {
   "codemirror_mode": {
    "name": "ipython",
    "version": 3
   },
   "file_extension": ".py",
   "mimetype": "text/x-python",
   "name": "python",
   "nbconvert_exporter": "python",
   "pygments_lexer": "ipython3",
   "version": "3.10.9"
  },
  "orig_nbformat": 4
 },
 "nbformat": 4,
 "nbformat_minor": 2
}
